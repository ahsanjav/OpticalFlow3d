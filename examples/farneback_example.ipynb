{
 "cells": [
  {
   "cell_type": "code",
   "execution_count": 1,
   "id": "a3554ddb-de53-4ac6-a102-01c526f3fa24",
   "metadata": {},
   "outputs": [],
   "source": [
    "import opticalflow3D"
   ]
  },
  {
   "cell_type": "code",
   "execution_count": 2,
   "id": "7ab782f1-6053-4d91-8ba7-3220d3332f44",
   "metadata": {},
   "outputs": [],
   "source": [
    "farneback = opticalflow3D.Farneback3D()"
   ]
  },
  {
   "cell_type": "code",
   "execution_count": 3,
   "id": "dc009976-75b1-4b32-a947-afb1e65ae086",
   "metadata": {},
   "outputs": [],
   "source": [
    "image2 = opticalflow3D.helpers.load_image([r\"E:\\data\\3DTFM\\test_set_2021Nov02_3c\\2021Nov02_3DTFM_3_w1CSU RFP_t1.TIF\",\n",
    "                                           r\"E:\\data\\3DTFM\\test_set_2021Nov02_3c\\2021Nov02_3DTFM_3_w1CSU RFP_t1-file002.TIF\"])"
   ]
  },
  {
   "cell_type": "code",
   "execution_count": 4,
   "id": "1d8e61ce-a1fd-46c5-9081-ca4d02329a2b",
   "metadata": {},
   "outputs": [],
   "source": [
    "image1 = opticalflow3D.helpers.load_image([r\"E:\\data\\3DTFM\\test_set_2021Nov02_3c\\2021Nov02_3DTFM_3c_w1CSU RFP_t1.TIF\",\n",
    "                                           r\"E:\\data\\3DTFM\\test_set_2021Nov02_3c\\2021Nov02_3DTFM_3c_w1CSU RFP_t1-file002.TIF\"])"
   ]
  },
  {
   "cell_type": "code",
   "execution_count": 5,
   "id": "40767a8b-ac43-42ab-84b6-22ce13210fcf",
   "metadata": {},
   "outputs": [],
   "source": [
    "image2 = opticalflow3D.helpers.realign_image(image2, z_reverse=True, z_end=-2, y_end=-1, x_end=-1)\n",
    "image1 = opticalflow3D.helpers.realign_image(image1, z_reverse=True, z_start=2, y_start=1, x_start=1)"
   ]
  },
  {
   "cell_type": "code",
   "execution_count": null,
   "id": "a3a42ea3-2c56-4014-ad29-7a87e210bf39",
   "metadata": {},
   "outputs": [
    {
     "name": "stdout",
     "output_type": "stream",
     "text": [
      "Running 3D Farneback optical flow with the following parameters:\n",
      "Iters: 5 | Levels: 5 | Scale: 0.5 | Kernel: 7 | Filter: box-21 | Presmoothing: 7\n"
     ]
    },
    {
     "name": "stderr",
     "output_type": "stream",
     "text": [
      "Item: 1/12:   0%|                                                                                | 0/5 [00:00<?, ?it/s]C:\\Users\\Xianbin\\anaconda3\\envs\\py39\\lib\\site-packages\\numba\\cuda\\compiler.py:726: NumbaPerformanceWarning: \u001b[1mGrid size (27) < 2 * SM count (92) will likely result in GPU under utilization due to low occupancy.\u001b[0m\n",
      "  warn(NumbaPerformanceWarning(msg))\n",
      "C:\\Users\\Xianbin\\anaconda3\\envs\\py39\\lib\\site-packages\\numba\\cuda\\compiler.py:726: NumbaPerformanceWarning: \u001b[1mGrid size (27) < 2 * SM count (92) will likely result in GPU under utilization due to low occupancy.\u001b[0m\n",
      "  warn(NumbaPerformanceWarning(msg))\n",
      "C:\\Users\\Xianbin\\anaconda3\\envs\\py39\\lib\\site-packages\\numba\\cuda\\compiler.py:726: NumbaPerformanceWarning: \u001b[1mGrid size (27) < 2 * SM count (92) will likely result in GPU under utilization due to low occupancy.\u001b[0m\n",
      "  warn(NumbaPerformanceWarning(msg))\n",
      "Item: 1/12:  20%|██████████████▍                                                         | 1/5 [00:05<00:23,  5.90s/it]C:\\Users\\Xianbin\\anaconda3\\envs\\py39\\lib\\site-packages\\numba\\cuda\\compiler.py:726: NumbaPerformanceWarning: \u001b[1mGrid size (27) < 2 * SM count (92) will likely result in GPU under utilization due to low occupancy.\u001b[0m\n",
      "  warn(NumbaPerformanceWarning(msg))\n",
      "Item: 1/12:  80%|█████████████████████████████████████████████████████████▌              | 4/5 [00:15<00:03,  3.49s/it]C:\\Users\\Xianbin\\anaconda3\\envs\\py39\\lib\\site-packages\\numba\\cuda\\compiler.py:726: NumbaPerformanceWarning: \u001b[1mGrid size (9) < 2 * SM count (92) will likely result in GPU under utilization due to low occupancy.\u001b[0m\n",
      "  warn(NumbaPerformanceWarning(msg))\n",
      "C:\\Users\\Xianbin\\anaconda3\\envs\\py39\\lib\\site-packages\\numba\\cuda\\compiler.py:726: NumbaPerformanceWarning: \u001b[1mGrid size (60) < 2 * SM count (92) will likely result in GPU under utilization due to low occupancy.\u001b[0m\n",
      "  warn(NumbaPerformanceWarning(msg))\n",
      "Item: 1/12: 100%|████████████████████████████████████████████████████████████████████████| 5/5 [00:16<00:00,  3.29s/it]\n",
      "Item: 2/12: 100%|████████████████████████████████████████████████████████████████████████| 5/5 [00:12<00:00,  2.54s/it]\n",
      "Item: 3/12:  80%|█████████████████████████████████████████████████████████▌              | 4/5 [00:09<00:02,  2.45s/it]C:\\Users\\Xianbin\\anaconda3\\envs\\py39\\lib\\site-packages\\numba\\cuda\\compiler.py:726: NumbaPerformanceWarning: \u001b[1mGrid size (50) < 2 * SM count (92) will likely result in GPU under utilization due to low occupancy.\u001b[0m\n",
      "  warn(NumbaPerformanceWarning(msg))\n",
      "Item: 3/12: 100%|████████████████████████████████████████████████████████████████████████| 5/5 [00:10<00:00,  2.13s/it]\n",
      "Item: 4/12:  80%|█████████████████████████████████████████████████████████▌              | 4/5 [00:13<00:03,  3.36s/it]C:\\Users\\Xianbin\\anaconda3\\envs\\py39\\lib\\site-packages\\numba\\cuda\\compiler.py:726: NumbaPerformanceWarning: \u001b[1mGrid size (72) < 2 * SM count (92) will likely result in GPU under utilization due to low occupancy.\u001b[0m\n",
      "  warn(NumbaPerformanceWarning(msg))\n",
      "Item: 4/12: 100%|████████████████████████████████████████████████████████████████████████| 5/5 [00:14<00:00,  2.89s/it]\n",
      "Item: 5/12: 100%|████████████████████████████████████████████████████████████████████████| 5/5 [00:14<00:00,  2.84s/it]\n",
      "Item: 6/12: 100%|████████████████████████████████████████████████████████████████████████| 5/5 [00:12<00:00,  2.40s/it]\n",
      "Item: 7/12: 100%|████████████████████████████████████████████████████████████████████████| 5/5 [00:13<00:00,  2.77s/it]\n",
      "Item: 8/12: 100%|████████████████████████████████████████████████████████████████████████| 5/5 [00:13<00:00,  2.77s/it]\n",
      "Item: 9/12: 100%|████████████████████████████████████████████████████████████████████████| 5/5 [00:11<00:00,  2.36s/it]\n",
      "Item: 10/12:   0%|                                                                               | 0/5 [00:00<?, ?it/s]C:\\Users\\Xianbin\\anaconda3\\envs\\py39\\lib\\site-packages\\numba\\cuda\\compiler.py:726: NumbaPerformanceWarning: \u001b[1mGrid size (18) < 2 * SM count (92) will likely result in GPU under utilization due to low occupancy.\u001b[0m\n",
      "  warn(NumbaPerformanceWarning(msg))\n",
      "Item: 10/12:  80%|████████████████████████████████████████████████████████▊              | 4/5 [00:06<00:01,  1.73s/it]C:\\Users\\Xianbin\\anaconda3\\envs\\py39\\lib\\site-packages\\numba\\cuda\\compiler.py:726: NumbaPerformanceWarning: \u001b[1mGrid size (6) < 2 * SM count (92) will likely result in GPU under utilization due to low occupancy.\u001b[0m\n",
      "  warn(NumbaPerformanceWarning(msg))\n",
      "C:\\Users\\Xianbin\\anaconda3\\envs\\py39\\lib\\site-packages\\numba\\cuda\\compiler.py:726: NumbaPerformanceWarning: \u001b[1mGrid size (36) < 2 * SM count (92) will likely result in GPU under utilization due to low occupancy.\u001b[0m\n",
      "  warn(NumbaPerformanceWarning(msg))\n",
      "Item: 10/12: 100%|███████████████████████████████████████████████████████████████████████| 5/5 [00:07<00:00,  1.53s/it]\n",
      "Item: 11/12: 100%|███████████████████████████████████████████████████████████████████████| 5/5 [00:07<00:00,  1.50s/it]\n",
      "Item: 12/12:   0%|                                                                               | 0/5 [00:00<?, ?it/s]C:\\Users\\Xianbin\\anaconda3\\envs\\py39\\lib\\site-packages\\numba\\cuda\\compiler.py:726: NumbaPerformanceWarning: \u001b[1mGrid size (90) < 2 * SM count (92) will likely result in GPU under utilization due to low occupancy.\u001b[0m\n",
      "  warn(NumbaPerformanceWarning(msg))\n",
      "Item: 12/12:  80%|████████████████████████████████████████████████████████▊              | 4/5 [00:05<00:01,  1.48s/it]C:\\Users\\Xianbin\\anaconda3\\envs\\py39\\lib\\site-packages\\numba\\cuda\\compiler.py:726: NumbaPerformanceWarning: \u001b[1mGrid size (30) < 2 * SM count (92) will likely result in GPU under utilization due to low occupancy.\u001b[0m\n",
      "  warn(NumbaPerformanceWarning(msg))\n",
      "Item: 12/12: 100%|███████████████████████████████████████████████████████████████████████| 5/5 [00:06<00:00,  1.31s/it]\n"
     ]
    },
    {
     "name": "stdout",
     "output_type": "stream",
     "text": [
      "Running 3D Farneback optical flow with the following parameters:\n",
      "Iters: 5 | Levels: 5 | Scale: 0.5 | Kernel: 7 | Filter: box-21 | Presmoothing: 7\n"
     ]
    },
    {
     "name": "stderr",
     "output_type": "stream",
     "text": [
      "Item: 1/12: 100%|████████████████████████████████████████████████████████████████████████| 5/5 [00:12<00:00,  2.55s/it]\n",
      "Item: 2/12: 100%|████████████████████████████████████████████████████████████████████████| 5/5 [00:12<00:00,  2.56s/it]\n",
      "Item: 3/12: 100%|████████████████████████████████████████████████████████████████████████| 5/5 [00:10<00:00,  2.15s/it]\n",
      "Item: 4/12: 100%|████████████████████████████████████████████████████████████████████████| 5/5 [00:14<00:00,  2.81s/it]\n",
      "Item: 5/12: 100%|████████████████████████████████████████████████████████████████████████| 5/5 [00:13<00:00,  2.78s/it]\n",
      "Item: 6/12: 100%|████████████████████████████████████████████████████████████████████████| 5/5 [00:11<00:00,  2.39s/it]\n",
      "Item: 7/12: 100%|████████████████████████████████████████████████████████████████████████| 5/5 [00:13<00:00,  2.78s/it]\n",
      "Item: 8/12: 100%|████████████████████████████████████████████████████████████████████████| 5/5 [00:13<00:00,  2.78s/it]\n",
      "Item: 9/12: 100%|████████████████████████████████████████████████████████████████████████| 5/5 [00:11<00:00,  2.39s/it]\n",
      "Item: 10/12: 100%|███████████████████████████████████████████████████████████████████████| 5/5 [00:07<00:00,  1.53s/it]\n",
      "Item: 11/12: 100%|███████████████████████████████████████████████████████████████████████| 5/5 [00:07<00:00,  1.55s/it]\n",
      "Item: 12/12: 100%|███████████████████████████████████████████████████████████████████████| 5/5 [00:06<00:00,  1.35s/it]\n"
     ]
    },
    {
     "name": "stdout",
     "output_type": "stream",
     "text": [
      "Running 3D Farneback optical flow with the following parameters:\n",
      "Iters: 5 | Levels: 5 | Scale: 0.5 | Kernel: 7 | Filter: box-21 | Presmoothing: 7\n"
     ]
    },
    {
     "name": "stderr",
     "output_type": "stream",
     "text": [
      "Item: 1/12: 100%|████████████████████████████████████████████████████████████████████████| 5/5 [00:13<00:00,  2.62s/it]\n",
      "Item: 2/12: 100%|████████████████████████████████████████████████████████████████████████| 5/5 [00:13<00:00,  2.62s/it]\n",
      "Item: 3/12: 100%|████████████████████████████████████████████████████████████████████████| 5/5 [00:11<00:00,  2.30s/it]\n",
      "Item: 4/12: 100%|████████████████████████████████████████████████████████████████████████| 5/5 [00:14<00:00,  2.95s/it]\n",
      "Item: 5/12: 100%|████████████████████████████████████████████████████████████████████████| 5/5 [00:14<00:00,  2.96s/it]\n",
      "Item: 6/12: 100%|████████████████████████████████████████████████████████████████████████| 5/5 [00:12<00:00,  2.43s/it]\n",
      "Item: 7/12: 100%|████████████████████████████████████████████████████████████████████████| 5/5 [00:13<00:00,  2.79s/it]\n",
      "Item: 8/12: 100%|████████████████████████████████████████████████████████████████████████| 5/5 [00:13<00:00,  2.78s/it]\n",
      "Item: 9/12: 100%|████████████████████████████████████████████████████████████████████████| 5/5 [00:11<00:00,  2.38s/it]\n",
      "Item: 10/12: 100%|███████████████████████████████████████████████████████████████████████| 5/5 [00:07<00:00,  1.55s/it]\n",
      "Item: 11/12: 100%|███████████████████████████████████████████████████████████████████████| 5/5 [00:07<00:00,  1.52s/it]\n",
      "Item: 12/12: 100%|███████████████████████████████████████████████████████████████████████| 5/5 [00:06<00:00,  1.34s/it]\n"
     ]
    },
    {
     "name": "stdout",
     "output_type": "stream",
     "text": [
      "Running 3D Farneback optical flow with the following parameters:\n",
      "Iters: 5 | Levels: 5 | Scale: 0.5 | Kernel: 7 | Filter: box-21 | Presmoothing: 7\n"
     ]
    },
    {
     "name": "stderr",
     "output_type": "stream",
     "text": [
      "Item: 1/12: 100%|████████████████████████████████████████████████████████████████████████| 5/5 [00:13<00:00,  2.62s/it]\n",
      "Item: 2/12: 100%|████████████████████████████████████████████████████████████████████████| 5/5 [00:13<00:00,  2.62s/it]\n",
      "Item: 3/12: 100%|████████████████████████████████████████████████████████████████████████| 5/5 [00:10<00:00,  2.19s/it]\n",
      "Item: 4/12: 100%|████████████████████████████████████████████████████████████████████████| 5/5 [00:14<00:00,  2.82s/it]\n",
      "Item: 5/12: 100%|████████████████████████████████████████████████████████████████████████| 5/5 [00:14<00:00,  2.87s/it]\n",
      "Item: 6/12: 100%|████████████████████████████████████████████████████████████████████████| 5/5 [00:12<00:00,  2.48s/it]\n",
      "Item: 7/12: 100%|████████████████████████████████████████████████████████████████████████| 5/5 [00:13<00:00,  2.79s/it]\n",
      "Item: 8/12: 100%|████████████████████████████████████████████████████████████████████████| 5/5 [00:13<00:00,  2.80s/it]\n",
      "Item: 9/12: 100%|████████████████████████████████████████████████████████████████████████| 5/5 [00:12<00:00,  2.44s/it]\n",
      "Item: 10/12: 100%|███████████████████████████████████████████████████████████████████████| 5/5 [00:07<00:00,  1.57s/it]\n",
      "Item: 11/12: 100%|███████████████████████████████████████████████████████████████████████| 5/5 [00:07<00:00,  1.53s/it]\n",
      "Item: 12/12: 100%|███████████████████████████████████████████████████████████████████████| 5/5 [00:06<00:00,  1.32s/it]\n"
     ]
    },
    {
     "name": "stdout",
     "output_type": "stream",
     "text": [
      "Running 3D Farneback optical flow with the following parameters:\n",
      "Iters: 5 | Levels: 5 | Scale: 0.5 | Kernel: 7 | Filter: box-21 | Presmoothing: 7\n"
     ]
    },
    {
     "name": "stderr",
     "output_type": "stream",
     "text": [
      "Item: 1/12: 100%|████████████████████████████████████████████████████████████████████████| 5/5 [00:13<00:00,  2.61s/it]\n",
      "Item: 2/12: 100%|████████████████████████████████████████████████████████████████████████| 5/5 [00:12<00:00,  2.57s/it]\n",
      "Item: 3/12: 100%|████████████████████████████████████████████████████████████████████████| 5/5 [00:10<00:00,  2.14s/it]\n",
      "Item: 4/12: 100%|████████████████████████████████████████████████████████████████████████| 5/5 [00:14<00:00,  2.90s/it]\n",
      "Item: 5/12: 100%|████████████████████████████████████████████████████████████████████████| 5/5 [00:14<00:00,  2.91s/it]\n",
      "Item: 6/12: 100%|████████████████████████████████████████████████████████████████████████| 5/5 [00:12<00:00,  2.54s/it]\n",
      "Item: 7/12: 100%|████████████████████████████████████████████████████████████████████████| 5/5 [00:14<00:00,  2.86s/it]\n",
      "Item: 8/12: 100%|████████████████████████████████████████████████████████████████████████| 5/5 [00:14<00:00,  2.83s/it]\n",
      "Item: 9/12: 100%|████████████████████████████████████████████████████████████████████████| 5/5 [00:11<00:00,  2.39s/it]\n",
      "Item: 10/12: 100%|███████████████████████████████████████████████████████████████████████| 5/5 [00:07<00:00,  1.51s/it]\n",
      "Item: 11/12: 100%|███████████████████████████████████████████████████████████████████████| 5/5 [00:07<00:00,  1.53s/it]\n",
      "Item: 12/12: 100%|███████████████████████████████████████████████████████████████████████| 5/5 [00:06<00:00,  1.35s/it]\n"
     ]
    },
    {
     "name": "stdout",
     "output_type": "stream",
     "text": [
      "Running 3D Farneback optical flow with the following parameters:\n",
      "Iters: 5 | Levels: 5 | Scale: 0.5 | Kernel: 7 | Filter: box-21 | Presmoothing: 7\n"
     ]
    },
    {
     "name": "stderr",
     "output_type": "stream",
     "text": [
      "Item: 1/12: 100%|████████████████████████████████████████████████████████████████████████| 5/5 [00:12<00:00,  2.60s/it]\n",
      "Item: 2/12: 100%|████████████████████████████████████████████████████████████████████████| 5/5 [00:13<00:00,  2.61s/it]\n",
      "Item: 3/12: 100%|████████████████████████████████████████████████████████████████████████| 5/5 [00:10<00:00,  2.16s/it]\n",
      "Item: 4/12: 100%|████████████████████████████████████████████████████████████████████████| 5/5 [00:13<00:00,  2.80s/it]\n",
      "Item: 5/12: 100%|████████████████████████████████████████████████████████████████████████| 5/5 [00:14<00:00,  2.81s/it]\n",
      "Item: 6/12: 100%|████████████████████████████████████████████████████████████████████████| 5/5 [00:11<00:00,  2.39s/it]\n",
      "Item: 7/12: 100%|████████████████████████████████████████████████████████████████████████| 5/5 [00:13<00:00,  2.80s/it]\n",
      "Item: 8/12: 100%|████████████████████████████████████████████████████████████████████████| 5/5 [00:14<00:00,  2.91s/it]\n",
      "Item: 9/12: 100%|████████████████████████████████████████████████████████████████████████| 5/5 [00:12<00:00,  2.50s/it]\n",
      "Item: 10/12: 100%|███████████████████████████████████████████████████████████████████████| 5/5 [00:07<00:00,  1.55s/it]\n",
      "Item: 11/12: 100%|███████████████████████████████████████████████████████████████████████| 5/5 [00:08<00:00,  1.62s/it]\n",
      "Item: 12/12: 100%|███████████████████████████████████████████████████████████████████████| 5/5 [00:06<00:00,  1.36s/it]\n"
     ]
    },
    {
     "name": "stdout",
     "output_type": "stream",
     "text": [
      "Running 3D Farneback optical flow with the following parameters:\n",
      "Iters: 5 | Levels: 5 | Scale: 0.5 | Kernel: 7 | Filter: box-21 | Presmoothing: 7\n"
     ]
    },
    {
     "name": "stderr",
     "output_type": "stream",
     "text": [
      "Item: 1/12: 100%|████████████████████████████████████████████████████████████████████████| 5/5 [00:12<00:00,  2.59s/it]\n",
      "Item: 2/12: 100%|████████████████████████████████████████████████████████████████████████| 5/5 [00:12<00:00,  2.59s/it]\n",
      "Item: 3/12: 100%|████████████████████████████████████████████████████████████████████████| 5/5 [00:10<00:00,  2.17s/it]\n",
      "Item: 4/12: 100%|████████████████████████████████████████████████████████████████████████| 5/5 [00:14<00:00,  2.80s/it]\n",
      "Item: 5/12: 100%|████████████████████████████████████████████████████████████████████████| 5/5 [00:14<00:00,  2.88s/it]\n",
      "Item: 6/12: 100%|████████████████████████████████████████████████████████████████████████| 5/5 [00:12<00:00,  2.47s/it]\n",
      "Item: 7/12: 100%|████████████████████████████████████████████████████████████████████████| 5/5 [00:14<00:00,  2.89s/it]\n",
      "Item: 8/12: 100%|████████████████████████████████████████████████████████████████████████| 5/5 [00:14<00:00,  2.94s/it]\n",
      "Item: 9/12:  80%|█████████████████████████████████████████████████████████▌              | 4/5 [00:11<00:02,  2.81s/it]"
     ]
    }
   ],
   "source": [
    "%%timeit\n",
    "output_vz, output_vy, output_vx, output_error = farneback.calculate_flow(image1, image2, start_point=(0, 300, 90),\n",
    "                                                                         total_vol=(998, 800, 1170),\n",
    "                                                                         sub_volume=(350, 350, 350),\n",
    "                                                                         overlap=(64, 64, 64),\n",
    "                                                                         threadsperblock=(8, 8, 8),\n",
    "                                                                        )"
   ]
  },
  {
   "cell_type": "code",
   "execution_count": null,
   "id": "223a97ef-77d3-4941-8e7b-8566c983b44a",
   "metadata": {},
   "outputs": [],
   "source": [
    "opticalflow3D.helpers.save_flow(\"2021Nov02_3DTFM_3-5-5-0.5-7-21.npz\", output_vz, output_vy, output_vx)\n",
    "opticalflow3D.helpers.save_error(\"2021Nov02_3DTFM_3-5-5-0.5-7-21_error.npz\", output_error)"
   ]
  },
  {
   "cell_type": "code",
   "execution_count": null,
   "id": "c4be24ac-959a-4853-9089-0e0168ef2411",
   "metadata": {},
   "outputs": [],
   "source": []
  }
 ],
 "metadata": {
  "kernelspec": {
   "display_name": "Python 3 (ipykernel)",
   "language": "python",
   "name": "python3"
  },
  "language_info": {
   "codemirror_mode": {
    "name": "ipython",
    "version": 3
   },
   "file_extension": ".py",
   "mimetype": "text/x-python",
   "name": "python",
   "nbconvert_exporter": "python",
   "pygments_lexer": "ipython3",
   "version": "3.9.12"
  }
 },
 "nbformat": 4,
 "nbformat_minor": 5
}
